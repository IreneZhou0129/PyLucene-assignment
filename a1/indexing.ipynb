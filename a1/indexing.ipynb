{
 "cells": [
  {
   "cell_type": "code",
   "execution_count": 5,
   "id": "db0027bc",
   "metadata": {},
   "outputs": [
    {
     "name": "stdout",
     "output_type": "stream",
     "text": [
      "<class 'bytes'>\n"
     ]
    }
   ],
   "source": [
    "import gzip\n",
    "f=gzip.open('../../a1-data/AP/AP880213.gz','rb')\n",
    "file_content=f.read()\n",
    "print (type(file_content))"
   ]
  },
  {
   "cell_type": "code",
   "execution_count": 9,
   "id": "38a7e2f9",
   "metadata": {},
   "outputs": [],
   "source": [
    "str_file_content = file_content.decode(\"utf-8\") "
   ]
  },
  {
   "cell_type": "code",
   "execution_count": 10,
   "id": "2c8fcb66",
   "metadata": {},
   "outputs": [
    {
     "data": {
      "text/plain": [
       "str"
      ]
     },
     "execution_count": 10,
     "metadata": {},
     "output_type": "execute_result"
    }
   ],
   "source": [
    "type(str_file_content)"
   ]
  },
  {
   "cell_type": "code",
   "execution_count": 6,
   "id": "de57dd1f",
   "metadata": {},
   "outputs": [],
   "source": [
    "INDEX_DIR = \"IndexFiles.index\"\n",
    "\n",
    "import sys, os, lucene, threading, time\n",
    "from datetime import datetime\n",
    "\n",
    "from java.nio.file import Paths\n",
    "from org.apache.lucene.analysis.miscellaneous import LimitTokenCountAnalyzer\n",
    "from org.apache.lucene.analysis.standard import StandardAnalyzer\n",
    "from org.apache.lucene.document import Document, Field, FieldType\n",
    "from org.apache.lucene.index import \\\n",
    "    FieldInfo, IndexWriter, IndexWriterConfig, IndexOptions\n",
    "from org.apache.lucene.store import SimpleFSDirectory"
   ]
  },
  {
   "cell_type": "code",
   "execution_count": 7,
   "id": "f4501d8d",
   "metadata": {},
   "outputs": [
    {
     "ename": "RuntimeError",
     "evalue": "initVM() must be called first",
     "output_type": "error",
     "traceback": [
      "\u001b[0;31m---------------------------------------------------------------------------\u001b[0m",
      "\u001b[0;31mRuntimeError\u001b[0m                              Traceback (most recent call last)",
      "\u001b[0;32m/var/folders/78/_bhxwdxx1q954czn36w9xx4m0000gn/T/ipykernel_59892/2939600279.py\u001b[0m in \u001b[0;36m<module>\u001b[0;34m\u001b[0m\n\u001b[1;32m      1\u001b[0m \u001b[0mstoreDir\u001b[0m \u001b[0;34m=\u001b[0m \u001b[0mINDEX_DIR\u001b[0m\u001b[0;34m\u001b[0m\u001b[0m\n\u001b[0;32m----> 2\u001b[0;31m \u001b[0manalyzer\u001b[0m \u001b[0;34m=\u001b[0m \u001b[0mStandardAnalyzer\u001b[0m\u001b[0;34m(\u001b[0m\u001b[0;34m)\u001b[0m\u001b[0;34m\u001b[0m\u001b[0m\n\u001b[0m\u001b[1;32m      3\u001b[0m \u001b[0;34m\u001b[0m\u001b[0m\n\u001b[1;32m      4\u001b[0m \u001b[0mstore\u001b[0m \u001b[0;34m=\u001b[0m \u001b[0mSimpleFSDirectory\u001b[0m\u001b[0;34m(\u001b[0m\u001b[0mPaths\u001b[0m\u001b[0;34m.\u001b[0m\u001b[0mget\u001b[0m\u001b[0;34m(\u001b[0m\u001b[0mstoreDir\u001b[0m\u001b[0;34m)\u001b[0m\u001b[0;34m)\u001b[0m\u001b[0;34m\u001b[0m\u001b[0m\n\u001b[1;32m      5\u001b[0m \u001b[0manalyzer\u001b[0m \u001b[0;34m=\u001b[0m \u001b[0mLimitTokenCountAnalyzer\u001b[0m\u001b[0;34m(\u001b[0m\u001b[0manalyzer\u001b[0m\u001b[0;34m,\u001b[0m \u001b[0;36m1048576\u001b[0m\u001b[0;34m)\u001b[0m\u001b[0;34m\u001b[0m\u001b[0m\n",
      "\u001b[0;31mRuntimeError\u001b[0m: initVM() must be called first"
     ]
    }
   ],
   "source": [
    "storeDir = INDEX_DIR\n",
    "analyzer = StandardAnalyzer()\n",
    "\n",
    "store = SimpleFSDirectory(Paths.get(storeDir))\n",
    "analyzer = LimitTokenCountAnalyzer(analyzer, 1048576)\n",
    "config = IndexWriterConfig(analyzer)\n",
    "config.setOpenMode(IndexWriterConfig.OpenMode.CREATE)\n",
    "writer = IndexWriter(store, config)"
   ]
  },
  {
   "cell_type": "code",
   "execution_count": null,
   "id": "1737378b",
   "metadata": {},
   "outputs": [],
   "source": []
  }
 ],
 "metadata": {
  "kernelspec": {
   "display_name": "Python 3 (ipykernel)",
   "language": "python",
   "name": "python3"
  },
  "language_info": {
   "codemirror_mode": {
    "name": "ipython",
    "version": 3
   },
   "file_extension": ".py",
   "mimetype": "text/x-python",
   "name": "python",
   "nbconvert_exporter": "python",
   "pygments_lexer": "ipython3",
   "version": "3.7.0"
  }
 },
 "nbformat": 4,
 "nbformat_minor": 5
}
