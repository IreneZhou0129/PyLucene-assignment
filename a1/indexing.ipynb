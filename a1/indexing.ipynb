{
 "cells": [
  {
   "cell_type": "code",
   "execution_count": 5,
   "id": "d3c7b862",
   "metadata": {},
   "outputs": [
    {
     "name": "stdout",
     "output_type": "stream",
     "text": [
      "<class 'bytes'>\n"
     ]
    }
   ],
   "source": [
    "import gzip\n",
    "f=gzip.open('../../a1-data/AP/AP880213.gz','rb')\n",
    "file_content=f.read()\n",
    "print (type(file_content))"
   ]
  },
  {
   "cell_type": "code",
   "execution_count": 9,
   "id": "ff106c5f",
   "metadata": {},
   "outputs": [],
   "source": [
    "str_file_content = file_content.decode(\"utf-8\") "
   ]
  },
  {
   "cell_type": "code",
   "execution_count": 10,
   "id": "d21d8d96",
   "metadata": {},
   "outputs": [
    {
     "data": {
      "text/plain": [
       "str"
      ]
     },
     "execution_count": 10,
     "metadata": {},
     "output_type": "execute_result"
    }
   ],
   "source": [
    "type(str_file_content)"
   ]
  },
  {
   "cell_type": "code",
   "execution_count": 17,
   "id": "c5cae008",
   "metadata": {},
   "outputs": [],
   "source": [
    "import re"
   ]
  },
  {
   "cell_type": "code",
   "execution_count": 30,
   "id": "67738eec",
   "metadata": {},
   "outputs": [],
   "source": [
    "queries = []\n",
    "with open('../../a1-data/topics.1-50.txt') as f:\n",
    "    lines = f.readlines()\n",
    "    \n",
    "for line in lines:    \n",
    "    m=re.compile(r\"<title>\\sTopic:\\s(?P<q>.*)\")\n",
    "    matched = m.match(line)\n",
    "    if matched:\n",
    "        query = matched.group(\"q\")\n",
    "        queries.append(query)\n"
   ]
  },
  {
   "cell_type": "code",
   "execution_count": 31,
   "id": "5efd9657",
   "metadata": {},
   "outputs": [
    {
     "data": {
      "text/plain": [
       "['Antitrust Cases Pending',\n",
       " 'Acquisitions',\n",
       " 'Joint Ventures',\n",
       " 'Debt Rescheduling',\n",
       " 'Dumping Charges',\n",
       " 'Third World Debt Relief',\n",
       " 'U.S. Budget Deficit',\n",
       " 'Economic Projections',\n",
       " 'U.S. Congressional Positions on the SDI',\n",
       " 'AIDS treatments',\n",
       " 'Space Program',\n",
       " 'Water Pollution',\n",
       " 'Mitsubishi Heavy Industries Ltd.',\n",
       " 'Drug Approval',\n",
       " 'International Trade Liberalization Talks',\n",
       " 'Marketing of Agrochemicals',\n",
       " 'Measures to Control Agrochemicals',\n",
       " 'Japanese Stock Market Trends',\n",
       " ' U.S. Protectionist Measures',\n",
       " 'Patent Infringement Lawsuits',\n",
       " 'Superconductors',\n",
       " 'Counternarcotics',\n",
       " 'Legal Repercussions of Agrochemical Use',\n",
       " 'New Medical Technology',\n",
       " 'Aftermath of Chernobyl',\n",
       " 'Tracking Influential Players in Multimedia',\n",
       " 'Expert systems and neural networks in business or',\n",
       " \"AT&T's Technical Efforts\",\n",
       " 'Foreign installation of AT&T communications products',\n",
       " 'OS/2 problems',\n",
       " 'Advantages of OS/2',\n",
       " 'Who outsources computer work to whom',\n",
       " 'Companies Capable of Producing Document Management',\n",
       " 'Entities Involved In Building ISDN Applications and',\n",
       " 'Alternatives to Postscript',\n",
       " 'How Rewritable Optical Disks Work',\n",
       " 'Identify SAA components',\n",
       " ' Impact of the \"Religious Right\" on U.S. Law',\n",
       " 'Client-Server Plans and Expectations',\n",
       " ' Analyses of Savings and Loan Failures',\n",
       " 'Computer or Communications Systems Upgrade',\n",
       " \"What is End User Computing and Who's Doing It\",\n",
       " 'U.S. Technology Policy',\n",
       " 'Staff Reductions at Computers and Communications',\n",
       " 'What Makes CASE succeed or fail',\n",
       " 'Tracking Computer Virus Outbreaks',\n",
       " 'Contracts for Computer systems in excess of $1 Million.',\n",
       " 'Purchasers of Modern Communications Equipment',\n",
       " \"Who's working with Supercomputers\",\n",
       " 'Potential Military Interest in Virtual Reality']"
      ]
     },
     "execution_count": 31,
     "metadata": {},
     "output_type": "execute_result"
    }
   ],
   "source": [
    "queries"
   ]
  },
  {
   "cell_type": "code",
   "execution_count": 6,
   "id": "f7ad8144",
   "metadata": {},
   "outputs": [],
   "source": [
    "INDEX_DIR = \"IndexFiles.index\"\n",
    "\n",
    "import sys, os, lucene, threading, time\n",
    "from datetime import datetime\n",
    "\n",
    "from java.nio.file import Paths\n",
    "from org.apache.lucene.analysis.miscellaneous import LimitTokenCountAnalyzer\n",
    "from org.apache.lucene.analysis.standard import StandardAnalyzer\n",
    "from org.apache.lucene.document import Document, Field, FieldType\n",
    "from org.apache.lucene.index import \\\n",
    "    FieldInfo, IndexWriter, IndexWriterConfig, IndexOptions\n",
    "from org.apache.lucene.store import SimpleFSDirectory"
   ]
  },
  {
   "cell_type": "code",
   "execution_count": 7,
   "id": "bc4c3d30",
   "metadata": {},
   "outputs": [
    {
     "ename": "RuntimeError",
     "evalue": "initVM() must be called first",
     "output_type": "error",
     "traceback": [
      "\u001b[0;31m---------------------------------------------------------------------------\u001b[0m",
      "\u001b[0;31mRuntimeError\u001b[0m                              Traceback (most recent call last)",
      "\u001b[0;32m/var/folders/78/_bhxwdxx1q954czn36w9xx4m0000gn/T/ipykernel_59892/2939600279.py\u001b[0m in \u001b[0;36m<module>\u001b[0;34m\u001b[0m\n\u001b[1;32m      1\u001b[0m \u001b[0mstoreDir\u001b[0m \u001b[0;34m=\u001b[0m \u001b[0mINDEX_DIR\u001b[0m\u001b[0;34m\u001b[0m\u001b[0m\n\u001b[0;32m----> 2\u001b[0;31m \u001b[0manalyzer\u001b[0m \u001b[0;34m=\u001b[0m \u001b[0mStandardAnalyzer\u001b[0m\u001b[0;34m(\u001b[0m\u001b[0;34m)\u001b[0m\u001b[0;34m\u001b[0m\u001b[0m\n\u001b[0m\u001b[1;32m      3\u001b[0m \u001b[0;34m\u001b[0m\u001b[0m\n\u001b[1;32m      4\u001b[0m \u001b[0mstore\u001b[0m \u001b[0;34m=\u001b[0m \u001b[0mSimpleFSDirectory\u001b[0m\u001b[0;34m(\u001b[0m\u001b[0mPaths\u001b[0m\u001b[0;34m.\u001b[0m\u001b[0mget\u001b[0m\u001b[0;34m(\u001b[0m\u001b[0mstoreDir\u001b[0m\u001b[0;34m)\u001b[0m\u001b[0;34m)\u001b[0m\u001b[0;34m\u001b[0m\u001b[0m\n\u001b[1;32m      5\u001b[0m \u001b[0manalyzer\u001b[0m \u001b[0;34m=\u001b[0m \u001b[0mLimitTokenCountAnalyzer\u001b[0m\u001b[0;34m(\u001b[0m\u001b[0manalyzer\u001b[0m\u001b[0;34m,\u001b[0m \u001b[0;36m1048576\u001b[0m\u001b[0;34m)\u001b[0m\u001b[0;34m\u001b[0m\u001b[0m\n",
      "\u001b[0;31mRuntimeError\u001b[0m: initVM() must be called first"
     ]
    }
   ],
   "source": [
    "storeDir = INDEX_DIR\n",
    "analyzer = StandardAnalyzer()\n",
    "\n",
    "store = SimpleFSDirectory(Paths.get(storeDir))\n",
    "analyzer = LimitTokenCountAnalyzer(analyzer, 1048576)\n",
    "config = IndexWriterConfig(analyzer)\n",
    "config.setOpenMode(IndexWriterConfig.OpenMode.CREATE)\n",
    "writer = IndexWriter(store, config)"
   ]
  },
  {
   "cell_type": "code",
   "execution_count": null,
   "id": "6c450296",
   "metadata": {},
   "outputs": [],
   "source": []
  }
 ],
 "metadata": {
  "kernelspec": {
   "display_name": "Python 3 (ipykernel)",
   "language": "python",
   "name": "python3"
  },
  "language_info": {
   "codemirror_mode": {
    "name": "ipython",
    "version": 3
   },
   "file_extension": ".py",
   "mimetype": "text/x-python",
   "name": "python",
   "nbconvert_exporter": "python",
   "pygments_lexer": "ipython3",
   "version": "3.7.0"
  }
 },
 "nbformat": 4,
 "nbformat_minor": 5
}
